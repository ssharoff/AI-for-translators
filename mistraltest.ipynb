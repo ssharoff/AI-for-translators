{
  "nbformat": 4,
  "nbformat_minor": 0,
  "metadata": {
    "colab": {
      "provenance": [],
      "authorship_tag": "ABX9TyMJKJ9ek1XRN3IZ8HivW793",
      "include_colab_link": true
    },
    "kernelspec": {
      "name": "python3",
      "display_name": "Python 3"
    },
    "language_info": {
      "name": "python"
    }
  },
  "cells": [
    {
      "cell_type": "markdown",
      "metadata": {
        "id": "view-in-github",
        "colab_type": "text"
      },
      "source": [
        "<a href=\"https://colab.research.google.com/github/ssharoff/AI-for-translators/blob/main/mistraltest.ipynb\" target=\"_parent\"><img src=\"https://colab.research.google.com/assets/colab-badge.svg\" alt=\"Open In Colab\"/></a>"
      ]
    },
    {
      "cell_type": "code",
      "execution_count": 1,
      "metadata": {
        "colab": {
          "base_uri": "https://localhost:8080/"
        },
        "id": "kSBeFutz-v9g",
        "outputId": "84553f6c-b629-43d4-99b3-19b04239f874"
      },
      "outputs": [
        {
          "output_type": "stream",
          "name": "stdout",
          "text": [
            "Collecting mistralai\n",
            "  Downloading mistralai-1.9.9-py3-none-any.whl.metadata (37 kB)\n",
            "Collecting eval-type-backport>=0.2.0 (from mistralai)\n",
            "  Downloading eval_type_backport-0.2.2-py3-none-any.whl.metadata (2.2 kB)\n",
            "Requirement already satisfied: httpx>=0.28.1 in /usr/local/lib/python3.12/dist-packages (from mistralai) (0.28.1)\n",
            "Collecting invoke<3.0.0,>=2.2.0 (from mistralai)\n",
            "  Downloading invoke-2.2.0-py3-none-any.whl.metadata (3.3 kB)\n",
            "Requirement already satisfied: pydantic>=2.10.3 in /usr/local/lib/python3.12/dist-packages (from mistralai) (2.11.7)\n",
            "Requirement already satisfied: python-dateutil>=2.8.2 in /usr/local/lib/python3.12/dist-packages (from mistralai) (2.9.0.post0)\n",
            "Requirement already satisfied: pyyaml<7.0.0,>=6.0.2 in /usr/local/lib/python3.12/dist-packages (from mistralai) (6.0.2)\n",
            "Requirement already satisfied: typing-inspection>=0.4.0 in /usr/local/lib/python3.12/dist-packages (from mistralai) (0.4.1)\n",
            "Requirement already satisfied: anyio in /usr/local/lib/python3.12/dist-packages (from httpx>=0.28.1->mistralai) (4.10.0)\n",
            "Requirement already satisfied: certifi in /usr/local/lib/python3.12/dist-packages (from httpx>=0.28.1->mistralai) (2025.8.3)\n",
            "Requirement already satisfied: httpcore==1.* in /usr/local/lib/python3.12/dist-packages (from httpx>=0.28.1->mistralai) (1.0.9)\n",
            "Requirement already satisfied: idna in /usr/local/lib/python3.12/dist-packages (from httpx>=0.28.1->mistralai) (3.10)\n",
            "Requirement already satisfied: h11>=0.16 in /usr/local/lib/python3.12/dist-packages (from httpcore==1.*->httpx>=0.28.1->mistralai) (0.16.0)\n",
            "Requirement already satisfied: annotated-types>=0.6.0 in /usr/local/lib/python3.12/dist-packages (from pydantic>=2.10.3->mistralai) (0.7.0)\n",
            "Requirement already satisfied: pydantic-core==2.33.2 in /usr/local/lib/python3.12/dist-packages (from pydantic>=2.10.3->mistralai) (2.33.2)\n",
            "Requirement already satisfied: typing-extensions>=4.12.2 in /usr/local/lib/python3.12/dist-packages (from pydantic>=2.10.3->mistralai) (4.15.0)\n",
            "Requirement already satisfied: six>=1.5 in /usr/local/lib/python3.12/dist-packages (from python-dateutil>=2.8.2->mistralai) (1.17.0)\n",
            "Requirement already satisfied: sniffio>=1.1 in /usr/local/lib/python3.12/dist-packages (from anyio->httpx>=0.28.1->mistralai) (1.3.1)\n",
            "Downloading mistralai-1.9.9-py3-none-any.whl (439 kB)\n",
            "\u001b[2K   \u001b[90m━━━━━━━━━━━━━━━━━━━━━━━━━━━━━━━━━━━━━━━━\u001b[0m \u001b[32m439.5/439.5 kB\u001b[0m \u001b[31m17.8 MB/s\u001b[0m eta \u001b[36m0:00:00\u001b[0m\n",
            "\u001b[?25hDownloading eval_type_backport-0.2.2-py3-none-any.whl (5.8 kB)\n",
            "Downloading invoke-2.2.0-py3-none-any.whl (160 kB)\n",
            "\u001b[2K   \u001b[90m━━━━━━━━━━━━━━━━━━━━━━━━━━━━━━━━━━━━━━━━\u001b[0m \u001b[32m160.3/160.3 kB\u001b[0m \u001b[31m14.7 MB/s\u001b[0m eta \u001b[36m0:00:00\u001b[0m\n",
            "\u001b[?25hInstalling collected packages: invoke, eval-type-backport, mistralai\n",
            "Successfully installed eval-type-backport-0.2.2 invoke-2.2.0 mistralai-1.9.9\n"
          ]
        }
      ],
      "source": [
        "!pip install mistralai"
      ]
    },
    {
      "cell_type": "code",
      "source": [
        "from google.colab import userdata\n",
        "api_key = userdata.get('MISTRAL_API_KEY')\n",
        "print(api_key[:4])\n",
        "\n",
        "from mistralai import Mistral\n",
        "\n",
        "model = \"ministral-3b-latest\"\n",
        "\n",
        "client = Mistral(api_key=api_key)\n",
        "messages = [\n",
        "        {\"role\": \"user\", \"content\": \"What is the best French cheese?\"}\n",
        "    ]\n",
        "messages = [\n",
        "    {\"role\": \"user\", \"content\": \"Please translate this sentence: Это безусловно главный лингвистический труд В. фон Гумбольдта, в котором наиболее полно изложена его теоретическая концепция.\"},\n",
        "    {\"role\": \"user\", \"content\": \"Please translate this sentence: В последние году жизни ученый работал над трудом «О языке кави на острове Ява», который не успел завершить.\"},\n",
        "    {\"role\": \"user\", \"content\": \"Please translate this sentence: Вопрос о связи гумбольдтовской теории с теми или иными философскими концепциями, в частности И. Канта, по разному трактуется историками науки.\"}\n",
        "]\n",
        "messages = [\n",
        "    {\"role\": \"user\", \"content\": \"Please translate this sentence: Это безусловно главный лингвистический труд В. фон Гумбольдта, в котором наиболее полно изложена его теоретическая концепция.\"},\n",
        "    {\"role\": \"system\", \"content\": \"You are a professional translator who pays attention to producing fluent high-quality output which satisfies the target language norms, including nuances and register.\"}\n",
        "]\n",
        "chat_response = client.chat.complete(\n",
        "    model = model,\n",
        "    messages = messages,\n",
        ")\n",
        "\n",
        "print(chat_response.choices[0].message.content)"
      ],
      "metadata": {
        "colab": {
          "base_uri": "https://localhost:8080/"
        },
        "id": "Rl_-4N54-4L4",
        "outputId": "5defd75b-035b-4761-a0c3-bf902ff548f5"
      },
      "execution_count": 2,
      "outputs": [
        {
          "output_type": "stream",
          "name": "stdout",
          "text": [
            "CviX\n",
            "This sentence translates to:\n",
            "\n",
            "\"This is undoubtedly the most significant linguistic work of V. von Humboldt, in which his theoretical concept is most fully presented.\"\n",
            "\n",
            "Here's a breakdown of the translation:\n",
            "\n",
            "- \"Это безусловно\" translates to \"This is undoubtedly\"\n",
            "- \"главный лингвистический труд\" translates to \"most significant linguistic work\"\n",
            "- \"В. фон Гумбольдта\" translates to \"V. von Humboldt\"\n",
            "- \"в котором\" translates to \"in which\"\n",
            "- \"наиболее полно изложена\" translates to \"most fully presented\"\n",
            "- \"её теоретическая концепция\" translates to \"his theoretical concept\"\n"
          ]
        }
      ]
    }
  ]
}