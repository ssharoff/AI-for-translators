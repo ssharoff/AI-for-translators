{
 "cells": [
  {
   "cell_type": "code",
   "execution_count": null,
   "metadata": {
    "id": "ohLSqLMXHqbO"
   },
   "outputs": [],
   "source": [
    "!pip install trafilatura"
   ]
  },
  {
   "cell_type": "code",
   "execution_count": null,
   "metadata": {
    "executionInfo": {
     "elapsed": 895,
     "status": "ok",
     "timestamp": 1722012544662,
     "user": {
      "displayName": "Serge Sharoff",
      "userId": "12457743126001579936"
     },
     "user_tz": -60
    },
    "id": "KvQ_mH_1HiEj"
   },
   "outputs": [],
   "source": [
    "import sys, re, pickle\n",
    "import trafilatura\n",
    "from trafilatura.spider import focused_crawler"
   ]
  },
  {
   "cell_type": "code",
   "execution_count": null,
   "metadata": {
    "colab": {
     "base_uri": "https://localhost:8080/"
    },
    "executionInfo": {
     "elapsed": 30428,
     "status": "ok",
     "timestamp": 1722012743790,
     "user": {
      "displayName": "Serge Sharoff",
      "userId": "12457743126001579936"
     },
     "user_tz": -60
    },
    "id": "lnPVb4VUHiEk",
    "outputId": "202df4ff-4dcf-4ef5-f960-62dbe58bff9a"
   },
   "outputs": [],
   "source": [
    "from google.colab import drive\n",
    "gdrive=\"/gdrive/\"\n",
    "drive.mount(gdrive)\n",
    "filepath=gdrive+\"MyDrive/corpus/\""
   ]
  },
  {
   "cell_type": "code",
   "execution_count": null,
   "metadata": {},
   "outputs": [],
   "source": [
    "filepath=\"./corpus/\""
   ]
  },
  {
   "cell_type": "code",
   "execution_count": null,
   "metadata": {
    "executionInfo": {
     "elapsed": 913,
     "status": "ok",
     "timestamp": 1722012759468,
     "user": {
      "displayName": "Serge Sharoff",
      "userId": "12457743126001579936"
     },
     "user_tz": -60
    },
    "id": "Anstsu-3HiEm"
   },
   "outputs": [],
   "source": [
    "def process_url(url_name,file_id):\n",
    "    print(\"Started processing \" + url_name)\n",
    "    downloaded = trafilatura.fetch_url(url_name)\n",
    "    plain_text = trafilatura.extract(downloaded)\n",
    "    print(\"Saving it as \" + file_id)\n",
    "    out_file = open(filepath + file_id + \".txt\",mode=\"w\")\n",
    "    print(url_name, file=out_file)\n",
    "    print(plain_text, file=out_file)\n",
    "    out_file.close()"
   ]
  },
  {
   "cell_type": "code",
   "execution_count": null,
   "metadata": {
    "colab": {
     "base_uri": "https://localhost:8080/"
    },
    "executionInfo": {
     "elapsed": 1256,
     "status": "ok",
     "timestamp": 1722013687120,
     "user": {
      "displayName": "Serge Sharoff",
      "userId": "12457743126001579936"
     },
     "user_tz": -60
    },
    "id": "fxXPKYSMHiEn",
    "outputId": "634938a5-d0c6-4c55-bd84-e40cceb0b989"
   },
   "outputs": [],
   "source": [
    "start_url = \"https://www.wipo.int/wipo_magazine_digital/en/\"\n",
    "# Also try collection for other languages. Check suitable websites\n",
    "# but make sure that it generates different file names for each language\n",
    "url_list=focused_crawler(start_url, max_seen_urls=5, max_known_urls=5)[0]\n",
    "print(f'How many pages collected: {len(url_list)} from {start_url}')\n",
    "list_file = open(filepath + \"urls.lst\",mode=\"w\")\n",
    "for url in url_list:\n",
    "    print(url,file=list_file)\n",
    "list_file.close()\n",
    "\n",
    "i = 0\n",
    "for url_name in url_list:\n",
    "    i += 1\n",
    "    try:\n",
    "        process_url(url_name,str(i)+\"-en\")\n",
    "    except:\n",
    "        print(f\"Fail in processing {url_name}\", file=sys.stderr)\n",
    "        "
   ]
  }
 ],
 "metadata": {
  "colab": {
   "provenance": []
  },
  "kernelspec": {
   "display_name": "Python 3 (ipykernel)",
   "language": "python",
   "name": "python3"
  },
  "language_info": {
   "codemirror_mode": {
    "name": "ipython",
    "version": 3
   },
   "file_extension": ".py",
   "mimetype": "text/x-python",
   "name": "python",
   "nbconvert_exporter": "python",
   "pygments_lexer": "ipython3",
   "version": "3.8.13"
  }
 },
 "nbformat": 4,
 "nbformat_minor": 4
}
